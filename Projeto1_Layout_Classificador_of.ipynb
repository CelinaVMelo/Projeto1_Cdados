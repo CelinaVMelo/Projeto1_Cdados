{
 "cells": [
  {
   "cell_type": "markdown",
   "metadata": {},
   "source": [
    "# Projeto 1 - Ciência dos Dados"
   ]
  },
  {
   "cell_type": "markdown",
   "metadata": {},
   "source": [
    "Nome: Breno Alencar Araújo\n",
    "\n",
    "Nome: Celina Vieira de Melo"
   ]
  },
  {
   "cell_type": "markdown",
   "metadata": {},
   "source": [
    "Atenção: Serão permitidos grupos de três pessoas, mas com uma rubrica mais exigente. Grupos deste tamanho precisarão fazer um questionário de avaliação de trabalho em equipe"
   ]
  },
  {
   "cell_type": "markdown",
   "metadata": {},
   "source": [
    "___\n",
    "Carregando algumas bibliotecas:"
   ]
  },
  {
   "cell_type": "code",
   "execution_count": 542,
   "metadata": {},
   "outputs": [],
   "source": [
    "%matplotlib inline\n",
    "import pandas as pd\n",
    "import matplotlib.pyplot as plt\n",
    "import numpy as np\n",
    "import os"
   ]
  },
  {
   "cell_type": "code",
   "execution_count": 543,
   "metadata": {
    "scrolled": false
   },
   "outputs": [
    {
     "name": "stdout",
     "output_type": "stream",
     "text": [
      "Esperamos trabalhar no diretório\n",
      "C:\\Users\\Breno Alencar\\Documents\\Insper\\Semestre 2\\CDados\\proj2copia2\n"
     ]
    }
   ],
   "source": [
    "print('Esperamos trabalhar no diretório')\n",
    "print(os.getcwd())"
   ]
  },
  {
   "cell_type": "markdown",
   "metadata": {},
   "source": [
    "Carregando a base de dados com os tweets classificados como relevantes e não relevantes:"
   ]
  },
  {
   "cell_type": "code",
   "execution_count": 544,
   "metadata": {},
   "outputs": [],
   "source": [
    "filename = 'Windows 10_final.xlsx'"
   ]
  },
  {
   "cell_type": "markdown",
   "metadata": {},
   "source": [
    "No projeto 1 escolhemos a marca Windows 10 para fazer a análise dos Tweets para a empresa! Com isso, classificamos como relevante os Tweets que estavam relacionados as opiniões dos usuários em relação ao produto e como irrelevantes anúncios, links para correção de erros do Windows etc."
   ]
  },
  {
   "cell_type": "code",
   "execution_count": 545,
   "metadata": {},
   "outputs": [
    {
     "data": {
      "text/html": [
       "<div>\n",
       "<style scoped>\n",
       "    .dataframe tbody tr th:only-of-type {\n",
       "        vertical-align: middle;\n",
       "    }\n",
       "\n",
       "    .dataframe tbody tr th {\n",
       "        vertical-align: top;\n",
       "    }\n",
       "\n",
       "    .dataframe thead th {\n",
       "        text-align: right;\n",
       "    }\n",
       "</style>\n",
       "<table border=\"1\" class=\"dataframe\">\n",
       "  <thead>\n",
       "    <tr style=\"text-align: right;\">\n",
       "      <th></th>\n",
       "      <th>Treinamento</th>\n",
       "      <th>Relevância</th>\n",
       "    </tr>\n",
       "  </thead>\n",
       "  <tbody>\n",
       "    <tr>\n",
       "      <th>0</th>\n",
       "      <td>relógio casio que eu não usava há meses com a ...</td>\n",
       "      <td>1</td>\n",
       "    </tr>\n",
       "    <tr>\n",
       "      <th>1</th>\n",
       "      <td>rt @pplware: hoje trazemos 3 ferramentas que o...</td>\n",
       "      <td>0</td>\n",
       "    </tr>\n",
       "    <tr>\n",
       "      <th>2</th>\n",
       "      <td>ct news - 15/03/2021 (windows 10 começa a dar ...</td>\n",
       "      <td>1</td>\n",
       "    </tr>\n",
       "    <tr>\n",
       "      <th>3</th>\n",
       "      <td>quer comprar este produto?entao clique neste l...</td>\n",
       "      <td>0</td>\n",
       "    </tr>\n",
       "    <tr>\n",
       "      <th>4</th>\n",
       "      <td>você ainda pode fazer upgrade gratuito para o ...</td>\n",
       "      <td>1</td>\n",
       "    </tr>\n",
       "  </tbody>\n",
       "</table>\n",
       "</div>"
      ],
      "text/plain": [
       "                                         Treinamento  Relevância\n",
       "0  relógio casio que eu não usava há meses com a ...           1\n",
       "1  rt @pplware: hoje trazemos 3 ferramentas que o...           0\n",
       "2  ct news - 15/03/2021 (windows 10 começa a dar ...           1\n",
       "3  quer comprar este produto?entao clique neste l...           0\n",
       "4  você ainda pode fazer upgrade gratuito para o ...           1"
      ]
     },
     "execution_count": 545,
     "metadata": {},
     "output_type": "execute_result"
    }
   ],
   "source": [
    "#Criando Dataframe da planilha Treinamento\n",
    "train = pd.read_excel(filename)\n",
    "train.head(5)"
   ]
  },
  {
   "cell_type": "code",
   "execution_count": 546,
   "metadata": {},
   "outputs": [
    {
     "data": {
      "text/html": [
       "<div>\n",
       "<style scoped>\n",
       "    .dataframe tbody tr th:only-of-type {\n",
       "        vertical-align: middle;\n",
       "    }\n",
       "\n",
       "    .dataframe tbody tr th {\n",
       "        vertical-align: top;\n",
       "    }\n",
       "\n",
       "    .dataframe thead th {\n",
       "        text-align: right;\n",
       "    }\n",
       "</style>\n",
       "<table border=\"1\" class=\"dataframe\">\n",
       "  <thead>\n",
       "    <tr style=\"text-align: right;\">\n",
       "      <th></th>\n",
       "      <th>Teste</th>\n",
       "      <th>Relevância</th>\n",
       "    </tr>\n",
       "  </thead>\n",
       "  <tbody>\n",
       "    <tr>\n",
       "      <th>0</th>\n",
       "      <td>um dia eu restauro um windows 10 outro dia um xp</td>\n",
       "      <td>1</td>\n",
       "    </tr>\n",
       "    <tr>\n",
       "      <th>1</th>\n",
       "      <td>rt @ajulianafiuza: vivendo ou atualizando o wi...</td>\n",
       "      <td>1</td>\n",
       "    </tr>\n",
       "    <tr>\n",
       "      <th>2</th>\n",
       "      <td>finalmente voltei o meu pc p windows 10 obg se...</td>\n",
       "      <td>1</td>\n",
       "    </tr>\n",
       "    <tr>\n",
       "      <th>3</th>\n",
       "      <td>@doliveira__ esse aqui https://t.co/fpcbvgkkhj</td>\n",
       "      <td>1</td>\n",
       "    </tr>\n",
       "    <tr>\n",
       "      <th>4</th>\n",
       "      <td>todo dia esse windows 10 pedindo atualização, ...</td>\n",
       "      <td>1</td>\n",
       "    </tr>\n",
       "  </tbody>\n",
       "</table>\n",
       "</div>"
      ],
      "text/plain": [
       "                                               Teste  Relevância\n",
       "0   um dia eu restauro um windows 10 outro dia um xp           1\n",
       "1  rt @ajulianafiuza: vivendo ou atualizando o wi...           1\n",
       "2  finalmente voltei o meu pc p windows 10 obg se...           1\n",
       "3     @doliveira__ esse aqui https://t.co/fpcbvgkkhj           1\n",
       "4  todo dia esse windows 10 pedindo atualização, ...           1"
      ]
     },
     "execution_count": 546,
     "metadata": {},
     "output_type": "execute_result"
    }
   ],
   "source": [
    "#Criando Dataframe da aba Teste da planilha\n",
    "test = pd.read_excel(filename, sheet_name = 'Teste')\n",
    "test.head(5)"
   ]
  },
  {
   "cell_type": "code",
   "execution_count": 587,
   "metadata": {},
   "outputs": [
    {
     "data": {
      "text/plain": [
       "0      relógio casio que eu não usava há meses com a ...\n",
       "1      rt @pplware: hoje trazemos 3 ferramentas que o...\n",
       "2      ct news - 15/03/2021 (windows 10 começa a dar ...\n",
       "3      quer comprar este produto?entao clique neste l...\n",
       "4      você ainda pode fazer upgrade gratuito para o ...\n",
       "                             ...                        \n",
       "295    @microsoftbr @microsoftajuda não consigo ajuda...\n",
       "296    você pode ter o pc com os melhores specs do mu...\n",
       "297    @clapiclapiclapi esse daqui é um i5, 8gb de ra...\n",
       "298    windows 10 recebe correção temporária da micro...\n",
       "299    rt @magazinewmti: notebook hp 250 g7 intel cor...\n",
       "Name: Treinamento, Length: 300, dtype: object"
      ]
     },
     "execution_count": 587,
     "metadata": {},
     "output_type": "execute_result"
    }
   ],
   "source": [
    "#Pd Series de Treinamento\n",
    "treinamento = pd.Series(train.Treinamento)\n"
   ]
  },
  {
   "cell_type": "markdown",
   "metadata": {},
   "source": [
    "___\n",
    "## Classificador automático de sentimento\n"
   ]
  },
  {
   "cell_type": "markdown",
   "metadata": {},
   "source": [
    "O Windows 10 é o mais novo sistema operacional da Microsft e desde seu lançamento está rodeado de opiniões díspares.  \n",
    "Para nosso classificador Naive-Bayes, consideramos como relevantes as constantes atualizações que o sistema passa, o tempo da atualização e o desempenho em jogos, além das experiências dos usuários do sistema. "
   ]
  },
  {
   "cell_type": "markdown",
   "metadata": {},
   "source": [
    "___\n",
    "### Montando um Classificador Naive-Bayes\n",
    "\n",
    "Considerando apenas as mensagens da planilha Treinamento, ensine  seu classificador."
   ]
  },
  {
   "cell_type": "code",
   "execution_count": 548,
   "metadata": {},
   "outputs": [],
   "source": [
    "import re \n",
    "\n",
    "def limpeza(text):\n",
    "    \"\"\"\n",
    "        Função de limpeza que troca alguns sinais básicos por espaços\n",
    "    \"\"\"\n",
    "    #importando string\n",
    "    punctuation = '[!-.:?;''\"\"@\"|\"\\n\"/]' # Sinais [] como delimitadores de um conjunto.\n",
    "    pattern = re.compile(punctuation)\n",
    "    text_subbed = re.sub(pattern, '', text)\n",
    "    return text_subbed"
   ]
  },
  {
   "cell_type": "code",
   "execution_count": 549,
   "metadata": {
    "scrolled": true
   },
   "outputs": [],
   "source": [
    "#Removendo espaços dos Tweets Relevantes e Irrelevantes\n",
    "\n",
    "classifi_0 =' '.join(train.loc[filt_0,'Treinamento'])\n",
    "\n",
    "#A função .lower() deixa todos os caracteres em minúsculo pois caracteres\n",
    "# maiússculos não acrescentam em nada na nossa análise, além de o Python contar duas vezes a mesma palavra. \n",
    "\n",
    "classifi_0_limpo = limpeza(classifi_0.lower())\n",
    "\n",
    "classifi_1_limpo = limpeza(classifi_1.lower())\n"
   ]
  },
  {
   "cell_type": "code",
   "execution_count": 550,
   "metadata": {},
   "outputs": [],
   "source": [
    "#Filtrando os Tweets Relevantes e Irrelevantes da aba Treinamento\n",
    "\n",
    "filt_1 = train.Relevância == 1\n",
    "classifi_1 =' '.join(train.loc[filt_1,'Treinamento'])\n",
    "\n",
    "\n",
    "filt_0 = train.Relevância == 0\n",
    "classifi_0 =' '.join(train.loc[filt_0,'Treinamento'])\n",
    "\n"
   ]
  },
  {
   "cell_type": "code",
   "execution_count": 551,
   "metadata": {},
   "outputs": [],
   "source": [
    "#Todas as palavras separadas dos tweets como Relevantes e Irrelevantes\n",
    "\n",
    "todas_os_tweets_irrelevantes = classifi_0_limpo.split()\n",
    "\n",
    "todas_os_tweets_relevantes = classifi_1_limpo.split()"
   ]
  },
  {
   "cell_type": "code",
   "execution_count": 552,
   "metadata": {},
   "outputs": [],
   "source": [
    "#PARA OS TWEETS RELEVANTES\n",
    "\n",
    "#Criando um pd.serie para todos os Tweets Relevantes\n",
    "serie_tweets_r = pd.Series(todas_os_tweets_relevantes)\n",
    "\n",
    "#Criando um pd.serie para todos os Tweets Relevantes\n",
    "serie_tweets_r = pd.Series(todas_os_tweets_relevantes)\n",
    "\n",
    "#Criando Tabela de Frequência absoluta dos Tweets Relevantes\n",
    "tabela_tweets_r = serie_tweets_r.value_counts()"
   ]
  },
  {
   "cell_type": "code",
   "execution_count": 553,
   "metadata": {},
   "outputs": [],
   "source": [
    "#PARA OS TWEETS IRRELEVANTES\n",
    "\n",
    "#Criando um pd.serie para todos os Tweets Irrelevantes\n",
    "serie_tweets_irr = pd.Series(todas_os_tweets_irrelevantes)\n",
    "\n",
    "#Criando um pd.serie para todos os Tweets Irrelevantes\n",
    "serie_tweets_irr = pd.Series(todas_os_tweets_irrelevantes)\n",
    "\n",
    "#Criando Tabela de Frequência absoluta dos Tweets Irrelevantes\n",
    "tabela_tweets_irr = serie_tweets_irr.value_counts()\n"
   ]
  },
  {
   "cell_type": "code",
   "execution_count": 554,
   "metadata": {},
   "outputs": [],
   "source": [
    "#Criando uma tabela relativa para os Twwts Relevantes \n",
    "\n",
    "tabela_tweets_relativa_r = serie_tweets_r.value_counts(True)\n",
    "\n",
    "#Criando uma tabela relativa para os Twwts Irrelevantes \n",
    "\n",
    "tabela_tweets_relativa_irr = serie_tweets_irr.value_counts(True)\n"
   ]
  },
  {
   "cell_type": "code",
   "execution_count": 577,
   "metadata": {},
   "outputs": [],
   "source": [
    "#Criando uma nova variável que contem todas as palavras dos Tweets Relevantes e Irrelevantes da planilha treinamento \n",
    "palavras_tweets = classifi_0_limpo + classifi_1_limpo\n"
   ]
  },
  {
   "cell_type": "code",
   "execution_count": 579,
   "metadata": {},
   "outputs": [],
   "source": [
    "#Colocando todas as palavras dos Tweets em uma lista\n",
    "\n",
    "todas_os_tweets = palavras_tweets.split()\n",
    "\n",
    "#Transformando em pd.Series para podermos trabalharmos com as ferramentas do Pandas \n",
    "\n",
    "serie_tweets = pd.Series(todas_os_tweets)"
   ]
  },
  {
   "cell_type": "code",
   "execution_count": 581,
   "metadata": {},
   "outputs": [
    {
     "data": {
      "text/plain": [
       "windows    291\n",
       "10         256\n",
       "o          181\n",
       "de         179\n",
       "que        128\n",
       "e          125\n",
       "a          116\n",
       "do         111\n",
       "é           82\n",
       "no          80\n",
       "dtype: int64"
      ]
     },
     "execution_count": 581,
     "metadata": {},
     "output_type": "execute_result"
    }
   ],
   "source": [
    "# tabela_relativo_tweets = serie_tweets.value_counts(True)\n",
    "tabela_absoluta_tweets = serie_tweets.value_counts()\n",
    "tabela_absoluta_tweets.head(10)"
   ]
  },
  {
   "cell_type": "code",
   "execution_count": 582,
   "metadata": {},
   "outputs": [
    {
     "data": {
      "text/plain": [
       "2111"
      ]
     },
     "execution_count": 582,
     "metadata": {},
     "output_type": "execute_result"
    }
   ],
   "source": [
    "#Descobrindo a quantidade de palavras sem repetição de todos os Tweets\n",
    "\n",
    "tabela_absoluta_tweets.shape[0]"
   ]
  },
  {
   "cell_type": "code",
   "execution_count": 583,
   "metadata": {},
   "outputs": [
    {
     "data": {
      "text/plain": [
       "0.6376153966515412"
      ]
     },
     "execution_count": 583,
     "metadata": {},
     "output_type": "execute_result"
    }
   ],
   "source": [
    "#Calculando as probabilidades de um Tweet ser relevante dentre todos os Tweets \n",
    "\n",
    "probabilidade_relevante = len(todas_os_tweets_relevantes)/len(todas_os_tweets)\n",
    "probabilidade_relevante"
   ]
  },
  {
   "cell_type": "code",
   "execution_count": 584,
   "metadata": {},
   "outputs": [
    {
     "data": {
      "text/plain": [
       "0.36254107338444685"
      ]
     },
     "execution_count": 584,
     "metadata": {},
     "output_type": "execute_result"
    }
   ],
   "source": [
    "#Calculando as probabilidades de um Tweet ser irrelevante dentre todos os Tweets \n",
    "\n",
    "probilidade_irrelevantes = len(todas_os_tweets_irrelevantes)/len(todas_os_tweets)\n",
    "probilidade_irrelevantes"
   ]
  },
  {
   "cell_type": "markdown",
   "metadata": {},
   "source": [
    "Com base nas probabilidades calculadas, conclui-se que a probabilidade do Tweet ter relevante é maior do que ser irrelevante mas ainda sim temos uma quantidade quase equilibrada entre a quantidade total de Tweets."
   ]
  },
  {
   "cell_type": "markdown",
   "metadata": {},
   "source": [
    "___\n",
    "### Verificando a performance do Classificador\n",
    "\n",
    "Agora você deve testar o seu classificador com a base de Testes."
   ]
  },
  {
   "cell_type": "code",
   "execution_count": 565,
   "metadata": {},
   "outputs": [],
   "source": [
    "#Tamanho de Pd Series de Teste\n",
    "\n",
    "quantidade_de_tweets = len(test['Teste'])"
   ]
  },
  {
   "cell_type": "code",
   "execution_count": 586,
   "metadata": {
    "scrolled": true
   },
   "outputs": [
    {
     "name": "stdout",
     "output_type": "stream",
     "text": [
      "0       um dia eu restauro um windows 10 outro dia um xp\n",
      "1      rt @ajulianafiuza: vivendo ou atualizando o wi...\n",
      "2      finalmente voltei o meu pc p windows 10 obg se...\n",
      "3         @doliveira__ esse aqui https://t.co/fpcbvgkkhj\n",
      "4      todo dia esse windows 10 pedindo atualização, ...\n",
      "                             ...                        \n",
      "203    olha, ter um computador com windows 10 sem ssd...\n",
      "204    todo o meu trabalho naquele ssd e windows 10 i...\n",
      "205    anotar pra não esquecer:\\nnunca mais tentar in...\n",
      "206    @guilhox pois é, o windows 10 mesmo eu uso obr...\n",
      "207    você pode ter o pc com os melhores specs do mu...\n",
      "Name: Teste, Length: 208, dtype: object\n"
     ]
    }
   ],
   "source": [
    "#Pd Series de Teste\n",
    "\n",
    "frase = (test['Teste'])"
   ]
  },
  {
   "cell_type": "code",
   "execution_count": 589,
   "metadata": {},
   "outputs": [],
   "source": [
    "#Transformando Pd Series de Teste em lista\n",
    "lista = list(frase)\n",
    "\n",
    "lista_1 = []\n",
    "\n",
    "j = 0\n",
    "while j < len(lista):\n",
    "    lista_1.append(lista[j])\n",
    "    j+=1\n",
    "\n",
    "#Trocando frase Serie para lista criada\n",
    "frase = lista_1\n"
   ]
  },
  {
   "cell_type": "code",
   "execution_count": 590,
   "metadata": {},
   "outputs": [],
   "source": [
    "#Procedimento para suaviazaação de Laplace (quando necessário), sendo esse acrescentado às novas listas os resultados obtidos.\n",
    "\n",
    "lista_relevante = []\n",
    "lista_irrelevante = []\n",
    "\n",
    "for i in frase:\n",
    "    i = i.split()\n",
    "    for palavra in i:\n",
    "        \n",
    "        probFraseDadoR = 1\n",
    "        #Caso uma palavra esteja na tabela de tweets relevantes\n",
    "        if palavra in tabela_tweets_r:\n",
    "            probFraseDadoR *= (tabela_tweets_r[palavra] + 1) / ( tabela_absoluta_tweets.shape[0] + len(todas_os_tweets_relevantes) )\n",
    "            \n",
    "        else:\n",
    "            #Caso contrário, tomaremos a suavização de Laplace para não zerarmos um dos termos \n",
    "            probFraseDadoR *= (0 + 1) / ( tabela_absoluta_tweets.shape[0] + len(todas_os_tweets_relevantes) )\n",
    "            \n",
    "                \n",
    "    lista_relevante.append(probFraseDadoR) \n",
    "#Fizemos o análogo para os irrelevantes\n",
    "for k in frase:\n",
    "    k = k.split()\n",
    "    for palavra in k:\n",
    "        \n",
    "        probFraseDadoIRR = 1\n",
    "        \n",
    "        if palavra in tabela_tweets_irr:\n",
    "            probFraseDadoIRR *= (tabela_tweets_irr[palavra] + 1) / ( tabela_absoluta_tweets.shape[0] + len(todas_os_tweets_irrelevantes) )\n",
    "        \n",
    "        else: \n",
    "            probFraseDadoIRR *= (0 + 1) / ( tabela_absoluta_tweets.shape[0] + len(todas_os_tweets_irrelevantes) )\n",
    "         \n",
    "        \n",
    "    lista_irrelevante.append(probFraseDadoIRR)"
   ]
  },
  {
   "cell_type": "code",
   "execution_count": 591,
   "metadata": {},
   "outputs": [
    {
     "data": {
      "text/html": [
       "<div>\n",
       "<style scoped>\n",
       "    .dataframe tbody tr th:only-of-type {\n",
       "        vertical-align: middle;\n",
       "    }\n",
       "\n",
       "    .dataframe tbody tr th {\n",
       "        vertical-align: top;\n",
       "    }\n",
       "\n",
       "    .dataframe thead th {\n",
       "        text-align: right;\n",
       "    }\n",
       "</style>\n",
       "<table border=\"1\" class=\"dataframe\">\n",
       "  <thead>\n",
       "    <tr style=\"text-align: right;\">\n",
       "      <th></th>\n",
       "      <th>Teste</th>\n",
       "      <th>Relevância</th>\n",
       "      <th>Classificador</th>\n",
       "    </tr>\n",
       "  </thead>\n",
       "  <tbody>\n",
       "    <tr>\n",
       "      <th>0</th>\n",
       "      <td>um dia eu restauro um windows 10 outro dia um xp</td>\n",
       "      <td>1</td>\n",
       "      <td>1</td>\n",
       "    </tr>\n",
       "    <tr>\n",
       "      <th>1</th>\n",
       "      <td>rt @ajulianafiuza: vivendo ou atualizando o wi...</td>\n",
       "      <td>1</td>\n",
       "      <td>1</td>\n",
       "    </tr>\n",
       "    <tr>\n",
       "      <th>2</th>\n",
       "      <td>finalmente voltei o meu pc p windows 10 obg se...</td>\n",
       "      <td>1</td>\n",
       "      <td>1</td>\n",
       "    </tr>\n",
       "    <tr>\n",
       "      <th>3</th>\n",
       "      <td>@doliveira__ esse aqui https://t.co/fpcbvgkkhj</td>\n",
       "      <td>1</td>\n",
       "      <td>1</td>\n",
       "    </tr>\n",
       "    <tr>\n",
       "      <th>4</th>\n",
       "      <td>todo dia esse windows 10 pedindo atualização, ...</td>\n",
       "      <td>1</td>\n",
       "      <td>1</td>\n",
       "    </tr>\n",
       "  </tbody>\n",
       "</table>\n",
       "</div>"
      ],
      "text/plain": [
       "                                               Teste  Relevância  \\\n",
       "0   um dia eu restauro um windows 10 outro dia um xp           1   \n",
       "1  rt @ajulianafiuza: vivendo ou atualizando o wi...           1   \n",
       "2  finalmente voltei o meu pc p windows 10 obg se...           1   \n",
       "3     @doliveira__ esse aqui https://t.co/fpcbvgkkhj           1   \n",
       "4  todo dia esse windows 10 pedindo atualização, ...           1   \n",
       "\n",
       "   Classificador  \n",
       "0              1  \n",
       "1              1  \n",
       "2              1  \n",
       "3              1  \n",
       "4              1  "
      ]
     },
     "execution_count": 591,
     "metadata": {},
     "output_type": "execute_result"
    }
   ],
   "source": [
    "test.head(5)"
   ]
  },
  {
   "cell_type": "code",
   "execution_count": 572,
   "metadata": {},
   "outputs": [
    {
     "data": {
      "text/html": [
       "<div>\n",
       "<style scoped>\n",
       "    .dataframe tbody tr th:only-of-type {\n",
       "        vertical-align: middle;\n",
       "    }\n",
       "\n",
       "    .dataframe tbody tr th {\n",
       "        vertical-align: top;\n",
       "    }\n",
       "\n",
       "    .dataframe thead th {\n",
       "        text-align: right;\n",
       "    }\n",
       "</style>\n",
       "<table border=\"1\" class=\"dataframe\">\n",
       "  <thead>\n",
       "    <tr style=\"text-align: right;\">\n",
       "      <th></th>\n",
       "      <th>Teste</th>\n",
       "      <th>Relevância</th>\n",
       "      <th>Classificador</th>\n",
       "    </tr>\n",
       "  </thead>\n",
       "  <tbody>\n",
       "    <tr>\n",
       "      <th>0</th>\n",
       "      <td>um dia eu restauro um windows 10 outro dia um xp</td>\n",
       "      <td>1</td>\n",
       "      <td>1</td>\n",
       "    </tr>\n",
       "    <tr>\n",
       "      <th>1</th>\n",
       "      <td>rt @ajulianafiuza: vivendo ou atualizando o wi...</td>\n",
       "      <td>1</td>\n",
       "      <td>1</td>\n",
       "    </tr>\n",
       "    <tr>\n",
       "      <th>2</th>\n",
       "      <td>finalmente voltei o meu pc p windows 10 obg se...</td>\n",
       "      <td>1</td>\n",
       "      <td>1</td>\n",
       "    </tr>\n",
       "    <tr>\n",
       "      <th>3</th>\n",
       "      <td>@doliveira__ esse aqui https://t.co/fpcbvgkkhj</td>\n",
       "      <td>1</td>\n",
       "      <td>1</td>\n",
       "    </tr>\n",
       "    <tr>\n",
       "      <th>4</th>\n",
       "      <td>todo dia esse windows 10 pedindo atualização, ...</td>\n",
       "      <td>1</td>\n",
       "      <td>1</td>\n",
       "    </tr>\n",
       "  </tbody>\n",
       "</table>\n",
       "</div>"
      ],
      "text/plain": [
       "                                               Teste  Relevância  \\\n",
       "0   um dia eu restauro um windows 10 outro dia um xp           1   \n",
       "1  rt @ajulianafiuza: vivendo ou atualizando o wi...           1   \n",
       "2  finalmente voltei o meu pc p windows 10 obg se...           1   \n",
       "3     @doliveira__ esse aqui https://t.co/fpcbvgkkhj           1   \n",
       "4  todo dia esse windows 10 pedindo atualização, ...           1   \n",
       "\n",
       "   Classificador  \n",
       "0              1  \n",
       "1              1  \n",
       "2              1  \n",
       "3              1  \n",
       "4              1  "
      ]
     },
     "execution_count": 572,
     "metadata": {},
     "output_type": "execute_result"
    }
   ],
   "source": [
    "\n",
    "probabilidade_relevante = len(todas_os_tweets_relevantes)/len(todas_os_tweets)\n",
    "probabilidade_irrelevante = len(todas_os_tweets_irrelevantes)/len(todas_os_tweets)\n",
    "lista_classificador = []\n",
    "\n",
    "\n",
    "contador = 0\n",
    "while contador < len(lista_relevante):\n",
    "    \n",
    "    Prob_de_ser_Relevante = probabilidade_relevante*lista_relevante[contador]\n",
    "    Prob_de_ser_Irrelevante = probabilidade_irrelevante*lista_irrelevante[contador]\n",
    "  \n",
    " #Para finalizarmos, fazemos a comparação final das probabilidades, classificamos como relevante ou irrelevante e adicionamos \n",
    " #essa classificação em uma nova lista.\n",
    "\n",
    "    if Prob_de_ser_Relevante > Prob_de_ser_Irrelevante:\n",
    "        lista_classificador.append(1)\n",
    "    \n",
    "    else:\n",
    "        lista_classificador.append(0)\n",
    "        \n",
    "    contador +=1\n",
    "        \n",
    "\n",
    "test[\"Classificador\"] = lista_classificador\n",
    "test.head()"
   ]
  },
  {
   "cell_type": "code",
   "execution_count": 573,
   "metadata": {},
   "outputs": [
    {
     "data": {
      "text/html": [
       "<div>\n",
       "<style scoped>\n",
       "    .dataframe tbody tr th:only-of-type {\n",
       "        vertical-align: middle;\n",
       "    }\n",
       "\n",
       "    .dataframe tbody tr th {\n",
       "        vertical-align: top;\n",
       "    }\n",
       "\n",
       "    .dataframe thead th {\n",
       "        text-align: right;\n",
       "    }\n",
       "</style>\n",
       "<table border=\"1\" class=\"dataframe\">\n",
       "  <thead>\n",
       "    <tr style=\"text-align: right;\">\n",
       "      <th>Classificador</th>\n",
       "      <th>0</th>\n",
       "      <th>1</th>\n",
       "    </tr>\n",
       "    <tr>\n",
       "      <th>Relevância</th>\n",
       "      <th></th>\n",
       "      <th></th>\n",
       "    </tr>\n",
       "  </thead>\n",
       "  <tbody>\n",
       "    <tr>\n",
       "      <th>0</th>\n",
       "      <td>3.846154</td>\n",
       "      <td>32.692308</td>\n",
       "    </tr>\n",
       "    <tr>\n",
       "      <th>1</th>\n",
       "      <td>0.000000</td>\n",
       "      <td>63.461538</td>\n",
       "    </tr>\n",
       "  </tbody>\n",
       "</table>\n",
       "</div>"
      ],
      "text/plain": [
       "Classificador         0          1\n",
       "Relevância                        \n",
       "0              3.846154  32.692308\n",
       "1              0.000000  63.461538"
      ]
     },
     "execution_count": 573,
     "metadata": {},
     "output_type": "execute_result"
    }
   ],
   "source": [
    "#Criando tabela para comparação entre dados classificados e saída do calssificador\n",
    "\n",
    "pd.crosstab(test[\"Relevância\"],test[\"Classificador\"],normalize=True)*100"
   ]
  },
  {
   "cell_type": "code",
   "execution_count": 592,
   "metadata": {},
   "outputs": [
    {
     "data": {
      "text/plain": [
       "windows    0.048834\n",
       "10         0.043436\n",
       "o          0.032393\n",
       "de         0.026503\n",
       "que        0.023313\n",
       "dtype: float64"
      ]
     },
     "execution_count": 592,
     "metadata": {},
     "output_type": "execute_result"
    }
   ],
   "source": [
    "tabela_tweets_relativa_r.head()"
   ]
  },
  {
   "cell_type": "markdown",
   "metadata": {},
   "source": [
    "___\n",
    "### Concluindo"
   ]
  },
  {
   "cell_type": "markdown",
   "metadata": {},
   "source": [
    "   A partir da tabela CrosTab concluímos um acerto de 63,46% dos casos em que marcamos como relevante e um acerto de 3,36% dos casos em que marcamos como irrelevante"
   ]
  },
  {
   "cell_type": "markdown",
   "metadata": {},
   "source": [
    "- Verdadeiro positivo: 63,46%\n",
    "\n",
    "- Falso positivo: 32.69%\n",
    "\n",
    "- Falso negativo: 0.0%\n",
    "\n",
    "- Verdadeiro negativo: 3.84%\n",
    "\n",
    "Mais de um terço dos tweets foi classificado como falso positivo devido a fatores que são difíceis para o classificador entender como ironia e ambiguidade. Vide exemplo: \"nem a existência do windows 10 foi uma ideia tão idiota assim \". "
   ]
  },
  {
   "cell_type": "markdown",
   "metadata": {},
   "source": [
    "\n",
    "Vale ressaltar o porque não podemos alimentar nosso base de Treinamento automaticamente usando o próprio classificador, aplicado a novos tweets. Isso se deve as classificações que fizemos! Pode-se dizer que estaríamos misturando resultados prováveis a classificacões corretas. Com o passar das iterações, as probabilidades irão reduzir cada vez mais, tornando mais inseguro confiar na classificação feita pelo classificador. \n",
    "\n",
    "Outros cenários possíveis são aplicações na medicina, no diagnóstico de doenças a partir dos sintomas relatados pelos pacientes, filtragem de SPAMs também é possível com o Naive Bayes ou a classificação de textos com base em um banco de dados. https://www.datageeks.com.br/naive-bayes/#:~:text=Hoje%20%C3%A9%20tamb%C3%A9m%20utilizado%20na,com%20base%20em%20seu%20conte%C3%BAdo.\n",
    "\n",
    "Para melhorar o classificador poderíamos pegar uma base de dados maior, com mais tweets, remover preposições, pois não trazem informações relevantes para classificação e poderíamos implementar uma classificação intermediária, por exemplo. Para isso, fariamos uma nova filtragem e calcularíamos as novas probabilidades para ter resultados mais precisos.\n",
    "https://repositorio.ufmg.br/bitstream/1843/ALDR-73WQXZ/1/tese1.pdf (Ctrl+f buscar por 'agrega')"
   ]
  },
  {
   "cell_type": "markdown",
   "metadata": {},
   "source": [
    "___\n",
    "### Qualidade do Classificador a partir de novas separações dos tweets entre Treinamento e Teste\n",
    "\n",
    "Caso for fazer esse item do Projeto"
   ]
  },
  {
   "cell_type": "code",
   "execution_count": 593,
   "metadata": {},
   "outputs": [
    {
     "data": {
      "text/html": [
       "<div>\n",
       "<style scoped>\n",
       "    .dataframe tbody tr th:only-of-type {\n",
       "        vertical-align: middle;\n",
       "    }\n",
       "\n",
       "    .dataframe tbody tr th {\n",
       "        vertical-align: top;\n",
       "    }\n",
       "\n",
       "    .dataframe thead th {\n",
       "        text-align: right;\n",
       "    }\n",
       "</style>\n",
       "<table border=\"1\" class=\"dataframe\">\n",
       "  <thead>\n",
       "    <tr style=\"text-align: right;\">\n",
       "      <th></th>\n",
       "      <th>Todos</th>\n",
       "      <th>Relevância</th>\n",
       "    </tr>\n",
       "  </thead>\n",
       "  <tbody>\n",
       "    <tr>\n",
       "      <th>0</th>\n",
       "      <td>um dia eu restauro um windows 10 outro dia um xp</td>\n",
       "      <td>1</td>\n",
       "    </tr>\n",
       "    <tr>\n",
       "      <th>1</th>\n",
       "      <td>rt @ajulianafiuza: vivendo ou atualizando o wi...</td>\n",
       "      <td>1</td>\n",
       "    </tr>\n",
       "    <tr>\n",
       "      <th>2</th>\n",
       "      <td>finalmente voltei o meu pc p windows 10 obg se...</td>\n",
       "      <td>1</td>\n",
       "    </tr>\n",
       "    <tr>\n",
       "      <th>3</th>\n",
       "      <td>@doliveira__ esse aqui https://t.co/fpcbvgkkhj</td>\n",
       "      <td>1</td>\n",
       "    </tr>\n",
       "    <tr>\n",
       "      <th>4</th>\n",
       "      <td>todo dia esse windows 10 pedindo atualização, ...</td>\n",
       "      <td>1</td>\n",
       "    </tr>\n",
       "    <tr>\n",
       "      <th>...</th>\n",
       "      <td>...</td>\n",
       "      <td>...</td>\n",
       "    </tr>\n",
       "    <tr>\n",
       "      <th>295</th>\n",
       "      <td>@microsoftbr @microsoftajuda não consigo ajuda...</td>\n",
       "      <td>1</td>\n",
       "    </tr>\n",
       "    <tr>\n",
       "      <th>296</th>\n",
       "      <td>você pode ter o pc com os melhores specs do mu...</td>\n",
       "      <td>1</td>\n",
       "    </tr>\n",
       "    <tr>\n",
       "      <th>297</th>\n",
       "      <td>@clapiclapiclapi esse daqui é um i5, 8gb de ra...</td>\n",
       "      <td>0</td>\n",
       "    </tr>\n",
       "    <tr>\n",
       "      <th>298</th>\n",
       "      <td>windows 10 recebe correção temporária da micro...</td>\n",
       "      <td>1</td>\n",
       "    </tr>\n",
       "    <tr>\n",
       "      <th>299</th>\n",
       "      <td>rt @magazinewmti: notebook hp 250 g7 intel cor...</td>\n",
       "      <td>0</td>\n",
       "    </tr>\n",
       "  </tbody>\n",
       "</table>\n",
       "<p>508 rows × 2 columns</p>\n",
       "</div>"
      ],
      "text/plain": [
       "                                                 Todos  Relevância\n",
       "0     um dia eu restauro um windows 10 outro dia um xp           1\n",
       "1    rt @ajulianafiuza: vivendo ou atualizando o wi...           1\n",
       "2    finalmente voltei o meu pc p windows 10 obg se...           1\n",
       "3       @doliveira__ esse aqui https://t.co/fpcbvgkkhj           1\n",
       "4    todo dia esse windows 10 pedindo atualização, ...           1\n",
       "..                                                 ...         ...\n",
       "295  @microsoftbr @microsoftajuda não consigo ajuda...           1\n",
       "296  você pode ter o pc com os melhores specs do mu...           1\n",
       "297  @clapiclapiclapi esse daqui é um i5, 8gb de ra...           0\n",
       "298  windows 10 recebe correção temporária da micro...           1\n",
       "299  rt @magazinewmti: notebook hp 250 g7 intel cor...           0\n",
       "\n",
       "[508 rows x 2 columns]"
      ]
     },
     "execution_count": 593,
     "metadata": {},
     "output_type": "execute_result"
    }
   ],
   "source": [
    "#A partir daqui mesclaremos os tweets de treinamento e teste, para nova combinação de probabilidades e análise de um novo cenário.\n",
    "precisao_percent = []\n",
    "train2 = pd.read_excel(filename)\n",
    "test2 = pd.read_excel(filename, sheet_name='Teste')\n",
    "train2 = train2.rename(columns={'Treinamento':'Todos'})\n",
    "test2 = test2.rename(columns={'Teste':'Todos'})\n",
    "total = pd.concat([test2,train2])\n",
    "total.head()"
   ]
  },
  {
   "cell_type": "markdown",
   "metadata": {},
   "source": [
    "___\n",
    "## Aperfeiçoamento:\n",
    "\n",
    "Os trabalhos vão evoluir em conceito dependendo da quantidade de itens avançados:\n",
    "\n",
    "* Limpar: \\n, :, \", ', (, ), etc SEM remover emojis\n",
    "* Corrigir separação de espaços entre palavras e emojis ou entre emojis e emojis\n",
    "* Propor outras limpezas e transformações que não afetem a qualidade da informação ou classificação\n",
    "* Criar categorias intermediárias de relevância baseadas na probabilidade: ex.: muito relevante, relevante, neutro, irrelevante, muito irrelevante (3 categorias: C, mais categorias conta para B)\n",
    "* Explicar por que não posso usar o próprio classificador para gerar mais amostras de treinamento\n",
    "* Propor diferentes cenários para Naïve Bayes fora do contexto do projeto\n",
    "* Sugerir e explicar melhorias reais com indicações concretas de como implementar (indicar como fazer e indicar material de pesquisa)\n"
   ]
  },
  {
   "cell_type": "markdown",
   "metadata": {},
   "source": [
    "___\n",
    "## Referências"
   ]
  },
  {
   "cell_type": "markdown",
   "metadata": {},
   "source": [
    "[Naive Bayes and Text Classification](https://arxiv.org/pdf/1410.5329.pdf)  **Mais completo**\n",
    "\n",
    "[A practical explanation of a Naive Bayes Classifier](https://monkeylearn.com/blog/practical-explanation-naive-bayes-classifier/) **Mais simples**"
   ]
  }
 ],
 "metadata": {
  "kernelspec": {
   "display_name": "Python 3",
   "language": "python",
   "name": "python3"
  },
  "language_info": {
   "codemirror_mode": {
    "name": "ipython",
    "version": 3
   },
   "file_extension": ".py",
   "mimetype": "text/x-python",
   "name": "python",
   "nbconvert_exporter": "python",
   "pygments_lexer": "ipython3",
   "version": "3.8.5"
  }
 },
 "nbformat": 4,
 "nbformat_minor": 4
}
